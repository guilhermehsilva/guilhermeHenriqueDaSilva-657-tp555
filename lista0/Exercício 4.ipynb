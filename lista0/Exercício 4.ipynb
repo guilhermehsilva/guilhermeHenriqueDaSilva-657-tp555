{
 "cells": [
  {
   "cell_type": "markdown",
   "metadata": {},
   "source": [
    "4. Neste exercício você vai plotar o histograma de um vetor criado através da soma de\n",
    "variáveis aleatórias. Histogramas são utilizados para se verificar a distribuição de um\n",
    "determinado conjunto de dados. Crie um vetor coluna x com M = 10000 amostras\n",
    "retiradas de uma distribuição aleatória uniforme. Em seguida, crie outro vetor coluna y,\n",
    "também com M = 10000 amostras retiradas de uma distribuição aleatória uniforme. Na\n",
    "sequência, obtenha o vetor z, que é definido pela seguinte equação\n",
    "z = x + y.\n",
    "a. Plote o histograma normalizado de z.\n",
    "Dica :\n",
    "\n",
    "● Use o método hist da biblioteca matplotlib\n",
    "\n",
    "https://matplotlib.org/3.1.3/api/_as_gen/matplotlib.pyplot.hist.html\n",
    "\n",
    "https://matplotlib.org/3.1.3/gallery/statistics/histogram_features.html"
   ]
  },
  {
   "cell_type": "code",
   "execution_count": 4,
   "metadata": {},
   "outputs": [
    {
     "data": {
      "text/plain": [
       "(array([ 7.,  0.,  5.,  3., 12., 11.,  9.,  6., 11., 16., 15., 26., 18.,\n",
       "        11., 29., 25., 28., 20., 28., 30., 39., 34., 35., 43., 53., 32.,\n",
       "        38., 35., 33., 27., 31., 31., 29., 22., 18., 21., 21., 16., 24.,\n",
       "        12., 20., 18., 15., 11.,  5., 10.,  9.,  3.,  3.,  2.]),\n",
       " array([0.06601376, 0.104041  , 0.14206825, 0.18009549, 0.21812274,\n",
       "        0.25614998, 0.29417722, 0.33220447, 0.37023171, 0.40825896,\n",
       "        0.4462862 , 0.48431344, 0.52234069, 0.56036793, 0.59839518,\n",
       "        0.63642242, 0.67444967, 0.71247691, 0.75050415, 0.7885314 ,\n",
       "        0.82655864, 0.86458589, 0.90261313, 0.94064038, 0.97866762,\n",
       "        1.01669486, 1.05472211, 1.09274935, 1.1307766 , 1.16880384,\n",
       "        1.20683109, 1.24485833, 1.28288557, 1.32091282, 1.35894006,\n",
       "        1.39696731, 1.43499455, 1.4730218 , 1.51104904, 1.54907628,\n",
       "        1.58710353, 1.62513077, 1.66315802, 1.70118526, 1.73921251,\n",
       "        1.77723975, 1.81526699, 1.85329424, 1.89132148, 1.92934873,\n",
       "        1.96737597]),\n",
       " <a list of 50 Patch objects>)"
      ]
     },
     "execution_count": 4,
     "metadata": {},
     "output_type": "execute_result"
    },
    {
     "data": {
      "image/png": "[encoded data removed]",
      "text/plain": [
       "<Figure size 432x288 with 1 Axes>"
      ]
     },
     "metadata": {
      "needs_background": "light"
     },
     "output_type": "display_data"
    }
   ],
   "source": [
    "import numpy as np\n",
    "import matplotlib.pyplot as plt\n",
    "\n",
    "%matplotlib inline\n",
    "\n",
    "M = 1000\n",
    "x = np.random.uniform(size=M)\n",
    "y = np.random.uniform(size=M)\n",
    "z = x + y\n",
    "\n",
    "plt.subplot(1, 2, 1)\n",
    "plt.title('exercicio 4')\n",
    "plt.hist(z , bins=50, color='g')"
   ]
  },
  {
   "cell_type": "code",
   "execution_count": null,
   "metadata": {},
   "outputs": [],
   "source": []
  }
 ],
 "metadata": {
  "kernelspec": {
   "display_name": "Python 3",
   "language": "python",
   "name": "python3"
  },
  "language_info": {
   "codemirror_mode": {
    "name": "ipython",
    "version": 3
   },
   "file_extension": ".py",
   "mimetype": "text/x-python",
   "name": "python",
   "nbconvert_exporter": "python",
   "pygments_lexer": "ipython3",
   "version": "3.7.4"
  }
 },
 "nbformat": 4,
 "nbformat_minor": 2
}
