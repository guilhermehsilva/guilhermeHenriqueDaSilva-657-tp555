{
 "cells": [
  {
   "cell_type": "markdown",
   "metadata": {},
   "source": [
    "1. Defina em suas próprias palavras:\n",
    "a. Inteligência.\n",
    "b. Inteligência artificial.\n",
    "c. Aprendizado de máquina."
   ]
  },
  {
   "cell_type": "markdown",
   "metadata": {},
   "source": [
    "2. Diz-se que um programa de computador aprende com a experiência E com relação a\n",
    "alguma tarefa T e alguma medida de desempenho D , se seu desempenho em T ,\n",
    "medido por D , melhorar com a experiência E . Suponha que um algoritmo de\n",
    "aprendizado seja alimentado com muitos dados climáticos históricos, e aprenda a\n",
    "prever o tempo. Qual seria uma escolha razoável para D ?\n",
    "a. A probabilidade de prever corretamente o tempo de uma data futura.\n",
    "b. A tarefa de previsão do tempo.\n",
    "c. O processo do algoritmo que examina uma grande quantidade de dados\n",
    "climáticos históricos.\n",
    "d. Nenhum das alternativas anteriores."
   ]
  },
  {
   "cell_type": "markdown",
   "metadata": {},
   "source": [
    "3. Diz-se que um programa de computador aprende com a experiência E com relação a\n",
    "alguma tarefa T e alguma medida de desempenho D , se seu desempenho em T ,\n",
    "medido por D , melhorar com a experiência E . Suponha que você esteja trabalhando\n",
    "numa agência meteorológica e deseje treinar um algoritmo de aprendizado com dados\n",
    "climáticos históricos para que este preveja o tempo. Neste caso, o que seriam T , E ?"
   ]
  },
  {
   "cell_type": "markdown",
   "metadata": {},
   "source": [
    "4. Suponha que você esteja trabalhando em uma agência meteorológica com previsão do\n",
    "tempo, e que a agência faça uma das três previsões para o clima de cada dia:\n",
    "ensolarado , nublado ou chuvoso . Você deseja usar um algoritmo de aprendizado\n",
    "para prever o tempo de amanhã. Você trataria essa tarefa como uma tarefa de\n",
    "classificação ou de regressão ? Justifique sua escolha."
   ]
  },
  {
   "cell_type": "markdown",
   "metadata": {},
   "source": [
    "5. Suponha que você esteja trabalhando em uma empresa de investimentos na previsão\n",
    "do mercado de ações e gostaria de prever o preço de uma determinada ação amanhã\n",
    "(medido em reais). Você deseja usar um algoritmo de aprendizado para isso. Você\n",
    "trataria essa tarefa como uma tarefa de classificação de regressão ? Justifique sua\n",
    "escolha."
   ]
  },
  {
   "cell_type": "markdown",
   "metadata": {},
   "source": [
    "6. Que tipo de algoritmo de aprendizado de máquina você usaria para permitir que um\n",
    "robô andasse em vários terrenos desconhecidos? Dica : o robô precisa, através de\n",
    "sensores, entender o estado do terreno (buracos, paredes, subidas íngremes, etc.) e\n",
    "baseado neste estado executar ações (se mover para frente/trás, esquerda/direita) e\n",
    "dependendo do resultado dessas ações decidir quais são as ações corretas para que\n",
    "ele ande sem problemas pelo terreno."
   ]
  },
  {
   "cell_type": "markdown",
   "metadata": {},
   "source": [
    "7. Que tipo de algoritmo de aprendizado de máquina você usaria para segmentar clientes\n",
    "de uma grande empresa de e-commerce em vários grupos? Dica : você pode ter os\n",
    "grupos já definidos e treinar um modelo para alocar novos clientes a esses grupos ou\n",
    "querer descobrir diferentes tipos de grupos de clientes."
   ]
  },
  {
   "cell_type": "markdown",
   "metadata": {},
   "source": [
    "8. Pesquise a literatura sobre IA/ML e descubra se as seguintes tarefas podem ser\n",
    "solucionadas por computadores. Se as tarefas puderem ser solucionadas, descreva\n",
    "sucintamente o algoritmo/método de IA/ML utilizado e como o problema é solucionado.\n",
    "Utilize o link abaixo como ponto de partida para sua pesquisa:\n",
    "https://mlc.committees.comsoc.org/research-library/\n",
    "a. Alocação de recursos em redes móveis (e.g., LTE, 5G-NR, etc.).\n",
    "b. Mitigação de colisões em redes sem-fio e móveis.\n",
    "c. Projeto e otimização de esquemas de modulação e codificação.\n",
    "d. Sensoriamento espectral.\n",
    "e. Posicionamento e localização em ambientes indoor.\n",
    "f. Roteamento de redes.\n",
    "g. Detecção e estimação de canal em sistemas de transmissão ópticos.\n",
    "h. Pré-distorção digital de não-linearidades de front-ends de RF.\n",
    "i. Segurança e robustez em redes de comunicação."
   ]
  },
  {
   "cell_type": "markdown",
   "metadata": {},
   "source": []
  }
 ],
 "metadata": {
  "kernelspec": {
   "display_name": "Python 3",
   "language": "python",
   "name": "python3"
  },
  "language_info": {
   "codemirror_mode": {
    "name": "ipython",
    "version": 3
   },
   "file_extension": ".py",
   "mimetype": "text/x-python",
   "name": "python",
   "nbconvert_exporter": "python",
   "pygments_lexer": "ipython3",
   "version": "3.7.4"
  }
 },
 "nbformat": 4,
 "nbformat_minor": 2
}
